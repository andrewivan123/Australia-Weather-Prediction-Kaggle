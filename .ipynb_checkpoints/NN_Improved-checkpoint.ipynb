{
 "cells": [
  {
   "cell_type": "code",
   "execution_count": 1,
   "metadata": {},
   "outputs": [],
   "source": [
    "import pickle\n",
    "import pandas as pd\n",
    "import numpy as np\n",
    "import os\n",
    "os.environ['CUDA_VISIBLE_DEVICES'] = '-1'"
   ]
  },
  {
   "cell_type": "code",
   "execution_count": 2,
   "metadata": {},
   "outputs": [],
   "source": [
    "import tensorflow as tf\n",
    "from tensorflow import keras"
   ]
  },
  {
   "cell_type": "code",
   "execution_count": 3,
   "metadata": {},
   "outputs": [
    {
     "name": "stdout",
     "output_type": "stream",
     "text": [
      "Num GPUs Available:  0\n",
      "[]\n"
     ]
    }
   ],
   "source": [
    "from __future__ import absolute_import, division, print_function, unicode_literals\n",
    "print(\"Num GPUs Available: \", len(tf.config.experimental.list_physical_devices('GPU')))\n",
    "print(tf.config.experimental.list_physical_devices('GPU'))"
   ]
  },
  {
   "cell_type": "code",
   "execution_count": 6,
   "metadata": {},
   "outputs": [],
   "source": [
    "xtrain=pd.read_csv(\"DataCom/xtraindata.csv\")\n",
    "ytrain=pd.read_csv(\"DataCom/ytraindata.csv\")\n",
    "xtest=pd.read_csv(\"DataCom/xtestdata.csv\")\n",
    "ytest=pd.read_csv(\"DataCom/ytestdata.csv\")"
   ]
  },
  {
   "cell_type": "code",
   "execution_count": 7,
   "metadata": {},
   "outputs": [],
   "source": [
    "dataset = tf.data.Dataset.from_tensor_slices((xtrain.values, ytrain.values))"
   ]
  },
  {
   "cell_type": "code",
   "execution_count": 8,
   "metadata": {},
   "outputs": [],
   "source": [
    "train_dataset = dataset.batch(16)"
   ]
  },
  {
   "cell_type": "markdown",
   "metadata": {},
   "source": [
    "## Improvement: Batch Normalization"
   ]
  },
  {
   "cell_type": "code",
   "execution_count": 9,
   "metadata": {},
   "outputs": [],
   "source": [
    "model = keras.Sequential([\n",
    "    keras.layers.BatchNormalization(),\n",
    "    keras.layers.Dense(100,activation = 'relu'),\n",
    "    keras.layers.BatchNormalization(),\n",
    "    keras.layers.Dense(50,activation = 'relu'),\n",
    "    keras.layers.BatchNormalization(),\n",
    "    keras.layers.Dense(1,activation = 'sigmoid')\n",
    "])\n",
    "\n",
    "model.compile(\n",
    "    optimizer = 'adam',\n",
    "    loss = \"binary_crossentropy\",\n",
    "    metrics = ['acc']\n",
    ")"
   ]
  },
  {
   "cell_type": "code",
   "execution_count": 10,
   "metadata": {},
   "outputs": [
    {
     "name": "stdout",
     "output_type": "stream",
     "text": [
      "WARNING:tensorflow:Layer sequential is casting an input tensor from dtype float64 to the layer's dtype of float32, which is new behavior in TensorFlow 2.  The layer has dtype float32 because it's dtype defaults to floatx.\n",
      "\n",
      "If you intended to run this layer in float32, you can safely ignore this warning. If in doubt, this warning is likely only an issue if you are porting a TensorFlow 1.X model to TensorFlow 2.\n",
      "\n",
      "To change all layers to have dtype float64 by default, call `tf.keras.backend.set_floatx('float64')`. To change just this layer, pass dtype='float64' to the layer constructor. If you are the author of this layer, you can disable autocasting by passing autocast=False to the base Layer constructor.\n",
      "\n",
      "Epoch 1/128\n",
      "2475/2475 - 4s - loss: 0.3632 - acc: 0.8405\n",
      "Epoch 2/128\n",
      "2475/2475 - 3s - loss: 0.3357 - acc: 0.8536\n",
      "Epoch 3/128\n",
      "2475/2475 - 3s - loss: 0.3285 - acc: 0.8570\n",
      "Epoch 4/128\n",
      "2475/2475 - 3s - loss: 0.3232 - acc: 0.8602\n",
      "Epoch 5/128\n",
      "2475/2475 - 3s - loss: 0.3188 - acc: 0.8624\n",
      "Epoch 6/128\n",
      "2475/2475 - 3s - loss: 0.3147 - acc: 0.8638\n",
      "Epoch 7/128\n",
      "2475/2475 - 3s - loss: 0.3101 - acc: 0.8662\n",
      "Epoch 8/128\n",
      "2475/2475 - 3s - loss: 0.3061 - acc: 0.8682\n",
      "Epoch 9/128\n",
      "2475/2475 - 3s - loss: 0.3019 - acc: 0.8708\n",
      "Epoch 10/128\n",
      "2475/2475 - 3s - loss: 0.2983 - acc: 0.8723\n",
      "Epoch 11/128\n",
      "2475/2475 - 3s - loss: 0.2943 - acc: 0.8744\n",
      "Epoch 12/128\n",
      "2475/2475 - 4s - loss: 0.2905 - acc: 0.8753\n",
      "Epoch 13/128\n",
      "2475/2475 - 4s - loss: 0.2866 - acc: 0.8766\n",
      "Epoch 14/128\n",
      "2475/2475 - 3s - loss: 0.2833 - acc: 0.8788\n",
      "Epoch 15/128\n",
      "2475/2475 - 3s - loss: 0.2798 - acc: 0.8807\n",
      "Epoch 16/128\n",
      "2475/2475 - 3s - loss: 0.2768 - acc: 0.8816\n",
      "Epoch 17/128\n",
      "2475/2475 - 3s - loss: 0.2735 - acc: 0.8828\n",
      "Epoch 18/128\n",
      "2475/2475 - 3s - loss: 0.2706 - acc: 0.8852\n",
      "Epoch 19/128\n",
      "2475/2475 - 3s - loss: 0.2682 - acc: 0.8857\n",
      "Epoch 20/128\n",
      "2475/2475 - 3s - loss: 0.2654 - acc: 0.8867\n",
      "Epoch 21/128\n",
      "2475/2475 - 4s - loss: 0.2622 - acc: 0.8885\n",
      "Epoch 22/128\n",
      "2475/2475 - 3s - loss: 0.2597 - acc: 0.8897\n",
      "Epoch 23/128\n",
      "2475/2475 - 3s - loss: 0.2567 - acc: 0.8921\n",
      "Epoch 24/128\n",
      "2475/2475 - 3s - loss: 0.2536 - acc: 0.8929\n",
      "Epoch 25/128\n",
      "2475/2475 - 3s - loss: 0.2513 - acc: 0.8936\n",
      "Epoch 26/128\n",
      "2475/2475 - 3s - loss: 0.2485 - acc: 0.8950\n",
      "Epoch 27/128\n",
      "2475/2475 - 4s - loss: 0.2452 - acc: 0.8971\n",
      "Epoch 28/128\n",
      "2475/2475 - 3s - loss: 0.2433 - acc: 0.8985\n",
      "Epoch 29/128\n",
      "2475/2475 - 3s - loss: 0.2414 - acc: 0.8990\n",
      "Epoch 30/128\n",
      "2475/2475 - 3s - loss: 0.2389 - acc: 0.8999\n",
      "Epoch 31/128\n",
      "2475/2475 - 3s - loss: 0.2372 - acc: 0.9015\n",
      "Epoch 32/128\n",
      "2475/2475 - 3s - loss: 0.2347 - acc: 0.9021\n",
      "Epoch 33/128\n",
      "2475/2475 - 4s - loss: 0.2334 - acc: 0.9029\n",
      "Epoch 34/128\n",
      "2475/2475 - 3s - loss: 0.2310 - acc: 0.9029\n",
      "Epoch 35/128\n",
      "2475/2475 - 3s - loss: 0.2286 - acc: 0.9044\n",
      "Epoch 36/128\n",
      "2475/2475 - 3s - loss: 0.2276 - acc: 0.9046\n",
      "Epoch 37/128\n",
      "2475/2475 - 3s - loss: 0.2265 - acc: 0.9049\n",
      "Epoch 38/128\n",
      "2475/2475 - 3s - loss: 0.2245 - acc: 0.9064\n",
      "Epoch 39/128\n",
      "2475/2475 - 3s - loss: 0.2228 - acc: 0.9064\n",
      "Epoch 40/128\n",
      "2475/2475 - 3s - loss: 0.2206 - acc: 0.9079\n",
      "Epoch 41/128\n",
      "2475/2475 - 3s - loss: 0.2194 - acc: 0.9074\n",
      "Epoch 42/128\n",
      "2475/2475 - 3s - loss: 0.2178 - acc: 0.9076\n",
      "Epoch 43/128\n",
      "2475/2475 - 3s - loss: 0.2167 - acc: 0.9090\n",
      "Epoch 44/128\n",
      "2475/2475 - 4s - loss: 0.2149 - acc: 0.9101\n",
      "Epoch 45/128\n",
      "2475/2475 - 4s - loss: 0.2125 - acc: 0.9109\n",
      "Epoch 46/128\n",
      "2475/2475 - 4s - loss: 0.2114 - acc: 0.9112\n",
      "Epoch 47/128\n",
      "2475/2475 - 3s - loss: 0.2113 - acc: 0.9103\n",
      "Epoch 48/128\n",
      "2475/2475 - 3s - loss: 0.2088 - acc: 0.9128\n",
      "Epoch 49/128\n",
      "2475/2475 - 3s - loss: 0.2068 - acc: 0.9147\n",
      "Epoch 50/128\n",
      "2475/2475 - 3s - loss: 0.2057 - acc: 0.9153\n",
      "Epoch 51/128\n",
      "2475/2475 - 3s - loss: 0.2041 - acc: 0.9152\n",
      "Epoch 52/128\n",
      "2475/2475 - 3s - loss: 0.2031 - acc: 0.9156\n",
      "Epoch 53/128\n",
      "2475/2475 - 3s - loss: 0.2025 - acc: 0.9164\n",
      "Epoch 54/128\n",
      "2475/2475 - 3s - loss: 0.2016 - acc: 0.9169\n",
      "Epoch 55/128\n",
      "2475/2475 - 3s - loss: 0.1989 - acc: 0.9186\n",
      "Epoch 56/128\n",
      "2475/2475 - 3s - loss: 0.1975 - acc: 0.9185\n",
      "Epoch 57/128\n",
      "2475/2475 - 3s - loss: 0.1966 - acc: 0.9184\n",
      "Epoch 58/128\n",
      "2475/2475 - 4s - loss: 0.1977 - acc: 0.9182\n",
      "Epoch 59/128\n",
      "2475/2475 - 3s - loss: 0.1945 - acc: 0.9201\n",
      "Epoch 60/128\n",
      "2475/2475 - 3s - loss: 0.1947 - acc: 0.9201\n",
      "Epoch 61/128\n",
      "2475/2475 - 3s - loss: 0.1936 - acc: 0.9212\n",
      "Epoch 62/128\n",
      "2475/2475 - 3s - loss: 0.1919 - acc: 0.9217\n",
      "Epoch 63/128\n",
      "2475/2475 - 3s - loss: 0.1907 - acc: 0.9217\n",
      "Epoch 64/128\n",
      "2475/2475 - 3s - loss: 0.1909 - acc: 0.9206\n",
      "Epoch 65/128\n",
      "2475/2475 - 3s - loss: 0.1893 - acc: 0.9218\n",
      "Epoch 66/128\n",
      "2475/2475 - 3s - loss: 0.1885 - acc: 0.9224\n",
      "Epoch 67/128\n",
      "2475/2475 - 3s - loss: 0.1870 - acc: 0.9234\n",
      "Epoch 68/128\n",
      "2475/2475 - 3s - loss: 0.1845 - acc: 0.9239\n",
      "Epoch 69/128\n",
      "2475/2475 - 3s - loss: 0.1846 - acc: 0.9243\n",
      "Epoch 70/128\n",
      "2475/2475 - 3s - loss: 0.1839 - acc: 0.9254\n",
      "Epoch 71/128\n",
      "2475/2475 - 3s - loss: 0.1830 - acc: 0.9244\n",
      "Epoch 72/128\n",
      "2475/2475 - 3s - loss: 0.1821 - acc: 0.9253\n",
      "Epoch 73/128\n",
      "2475/2475 - 3s - loss: 0.1809 - acc: 0.9253\n",
      "Epoch 74/128\n",
      "2475/2475 - 3s - loss: 0.1826 - acc: 0.9240\n",
      "Epoch 75/128\n",
      "2475/2475 - 3s - loss: 0.1790 - acc: 0.9264\n",
      "Epoch 76/128\n",
      "2475/2475 - 3s - loss: 0.1787 - acc: 0.9265\n",
      "Epoch 77/128\n",
      "2475/2475 - 3s - loss: 0.1767 - acc: 0.9270\n",
      "Epoch 78/128\n",
      "2475/2475 - 3s - loss: 0.1803 - acc: 0.9248\n",
      "Epoch 79/128\n",
      "2475/2475 - 3s - loss: 0.1772 - acc: 0.9275\n",
      "Epoch 80/128\n",
      "2475/2475 - 3s - loss: 0.1769 - acc: 0.9277\n",
      "Epoch 81/128\n",
      "2475/2475 - 3s - loss: 0.1728 - acc: 0.9290\n",
      "Epoch 82/128\n",
      "2475/2475 - 3s - loss: 0.1730 - acc: 0.9282\n",
      "Epoch 83/128\n",
      "2475/2475 - 3s - loss: 0.1727 - acc: 0.9283\n",
      "Epoch 84/128\n",
      "2475/2475 - 3s - loss: 0.1701 - acc: 0.9306\n",
      "Epoch 85/128\n",
      "2475/2475 - 3s - loss: 0.1711 - acc: 0.9295\n",
      "Epoch 86/128\n",
      "2475/2475 - 3s - loss: 0.1697 - acc: 0.9306\n",
      "Epoch 87/128\n",
      "2475/2475 - 3s - loss: 0.1687 - acc: 0.9317\n",
      "Epoch 88/128\n",
      "2475/2475 - 3s - loss: 0.1680 - acc: 0.9325\n",
      "Epoch 89/128\n",
      "2475/2475 - 3s - loss: 0.1674 - acc: 0.9318\n",
      "Epoch 90/128\n",
      "2475/2475 - 4s - loss: 0.1694 - acc: 0.9309\n",
      "Epoch 91/128\n",
      "2475/2475 - 3s - loss: 0.1675 - acc: 0.9308\n",
      "Epoch 92/128\n",
      "2475/2475 - 3s - loss: 0.1667 - acc: 0.9318\n",
      "Epoch 93/128\n",
      "2475/2475 - 3s - loss: 0.1659 - acc: 0.9319\n",
      "Epoch 94/128\n",
      "2475/2475 - 3s - loss: 0.1651 - acc: 0.9315\n",
      "Epoch 95/128\n",
      "2475/2475 - 3s - loss: 0.1633 - acc: 0.9332\n",
      "Epoch 96/128\n",
      "2475/2475 - 3s - loss: 0.1673 - acc: 0.9305\n",
      "Epoch 97/128\n",
      "2475/2475 - 3s - loss: 0.1641 - acc: 0.9331\n",
      "Epoch 98/128\n",
      "2475/2475 - 3s - loss: 0.1624 - acc: 0.9341\n",
      "Epoch 99/128\n",
      "2475/2475 - 3s - loss: 0.1630 - acc: 0.9326\n",
      "Epoch 100/128\n",
      "2475/2475 - 3s - loss: 0.1609 - acc: 0.9337\n",
      "Epoch 101/128\n",
      "2475/2475 - 3s - loss: 0.1600 - acc: 0.9349\n",
      "Epoch 102/128\n",
      "2475/2475 - 4s - loss: 0.1607 - acc: 0.9347\n",
      "Epoch 103/128\n",
      "2475/2475 - 3s - loss: 0.1582 - acc: 0.9361\n",
      "Epoch 104/128\n",
      "2475/2475 - 3s - loss: 0.1608 - acc: 0.9339\n",
      "Epoch 105/128\n",
      "2475/2475 - 3s - loss: 0.1556 - acc: 0.9366\n",
      "Epoch 106/128\n",
      "2475/2475 - 3s - loss: 0.1592 - acc: 0.9347\n",
      "Epoch 107/128\n",
      "2475/2475 - 3s - loss: 0.1563 - acc: 0.9372\n",
      "Epoch 108/128\n",
      "2475/2475 - 3s - loss: 0.1563 - acc: 0.9372\n",
      "Epoch 109/128\n",
      "2475/2475 - 3s - loss: 0.1556 - acc: 0.9366\n",
      "Epoch 110/128\n",
      "2475/2475 - 3s - loss: 0.1539 - acc: 0.9379\n",
      "Epoch 111/128\n",
      "2475/2475 - 3s - loss: 0.1543 - acc: 0.9373\n",
      "Epoch 112/128\n",
      "2475/2475 - 3s - loss: 0.1555 - acc: 0.9361\n",
      "Epoch 113/128\n",
      "2475/2475 - 3s - loss: 0.1548 - acc: 0.9371\n",
      "Epoch 114/128\n",
      "2475/2475 - 3s - loss: 0.1558 - acc: 0.9367\n",
      "Epoch 115/128\n",
      "2475/2475 - 3s - loss: 0.1513 - acc: 0.9387\n",
      "Epoch 116/128\n",
      "2475/2475 - 3s - loss: 0.1538 - acc: 0.9374\n",
      "Epoch 117/128\n",
      "2475/2475 - 3s - loss: 0.1514 - acc: 0.9391\n",
      "Epoch 118/128\n",
      "2475/2475 - 3s - loss: 0.1524 - acc: 0.9370\n",
      "Epoch 119/128\n",
      "2475/2475 - 3s - loss: 0.1490 - acc: 0.9406\n",
      "Epoch 120/128\n",
      "2475/2475 - 3s - loss: 0.1491 - acc: 0.9393\n",
      "Epoch 121/128\n",
      "2475/2475 - 4s - loss: 0.1511 - acc: 0.9384\n",
      "Epoch 122/128\n",
      "2475/2475 - 4s - loss: 0.1484 - acc: 0.9400\n",
      "Epoch 123/128\n",
      "2475/2475 - 4s - loss: 0.1464 - acc: 0.9409\n",
      "Epoch 124/128\n",
      "2475/2475 - 4s - loss: 0.1491 - acc: 0.9393\n",
      "Epoch 125/128\n",
      "2475/2475 - 4s - loss: 0.1469 - acc: 0.9401\n",
      "Epoch 126/128\n",
      "2475/2475 - 3s - loss: 0.1487 - acc: 0.9395\n",
      "Epoch 127/128\n",
      "2475/2475 - 3s - loss: 0.1477 - acc: 0.9393\n",
      "Epoch 128/128\n",
      "2475/2475 - 4s - loss: 0.1476 - acc: 0.9395\n"
     ]
    },
    {
     "data": {
      "text/plain": [
       "<tensorflow.python.keras.callbacks.History at 0x1ab8ec82c18>"
      ]
     },
     "execution_count": 10,
     "metadata": {},
     "output_type": "execute_result"
    }
   ],
   "source": [
    "model.fit(train_dataset,epochs =128,verbose = 2)"
   ]
  },
  {
   "cell_type": "code",
   "execution_count": 11,
   "metadata": {},
   "outputs": [
    {
     "name": "stdout",
     "output_type": "stream",
     "text": [
      "39593/1 - 1s - loss: 0.2903 - acc: 0.8527\n"
     ]
    },
    {
     "data": {
      "text/plain": [
       "[0.4869085082387378, 0.852676]"
      ]
     },
     "execution_count": 11,
     "metadata": {},
     "output_type": "execute_result"
    }
   ],
   "source": [
    "model.evaluate(xtrain.values,ytrain.values, verbose=2)"
   ]
  },
  {
   "cell_type": "code",
   "execution_count": 12,
   "metadata": {},
   "outputs": [
    {
     "name": "stdout",
     "output_type": "stream",
     "text": [
      "13198/1 - 0s - loss: 0.4468 - acc: 0.8250\n"
     ]
    },
    {
     "data": {
      "text/plain": [
       "[0.6390155319834067, 0.82497346]"
      ]
     },
     "execution_count": 12,
     "metadata": {},
     "output_type": "execute_result"
    }
   ],
   "source": [
    "model.evaluate(xtest.values,ytest.values, verbose=2)"
   ]
  },
  {
   "cell_type": "code",
   "execution_count": null,
   "metadata": {},
   "outputs": [],
   "source": [
    "model.save(\"kerasmodelcombinedIMP.h5\")"
   ]
  },
  {
   "cell_type": "code",
   "execution_count": null,
   "metadata": {},
   "outputs": [],
   "source": [
    "train_dataset1 = dataset.batch(8)"
   ]
  },
  {
   "cell_type": "code",
   "execution_count": null,
   "metadata": {},
   "outputs": [],
   "source": [
    "model1 = keras.Sequential([\n",
    "    keras.layers.BatchNormalization(),\n",
    "    keras.layers.Dense(100,activation = 'relu'),\n",
    "    keras.layers.BatchNormalization(),\n",
    "    keras.layers.Dense(50,activation = 'relu'),\n",
    "    keras.layers.BatchNormalization(),\n",
    "    keras.layers.Dense(1,activation = 'sigmoid')\n",
    "])\n",
    "\n",
    "model1.compile(\n",
    "    optimizer = 'adam',\n",
    "    loss = \"binary_crossentropy\",\n",
    "    metrics = ['acc']\n",
    ")"
   ]
  },
  {
   "cell_type": "code",
   "execution_count": null,
   "metadata": {},
   "outputs": [],
   "source": [
    "model1.fit(train_dataset1,epochs = 64,verbose = 2)"
   ]
  },
  {
   "cell_type": "code",
   "execution_count": null,
   "metadata": {},
   "outputs": [],
   "source": []
  }
 ],
 "metadata": {
  "kernelspec": {
   "display_name": "Python 3",
   "language": "python",
   "name": "python3"
  },
  "language_info": {
   "codemirror_mode": {
    "name": "ipython",
    "version": 3
   },
   "file_extension": ".py",
   "mimetype": "text/x-python",
   "name": "python",
   "nbconvert_exporter": "python",
   "pygments_lexer": "ipython3",
   "version": "3.7.3"
  }
 },
 "nbformat": 4,
 "nbformat_minor": 2
}
